{
 "cells": [
  {
   "cell_type": "code",
   "execution_count": null,
   "metadata": {},
   "outputs": [],
   "source": [
    "\n",
    "\n"
   ]
  },
  {
   "cell_type": "code",
   "execution_count": 161,
   "metadata": {},
   "outputs": [
    {
     "name": "stdout",
     "output_type": "stream",
     "text": [
      "[[25 16]\n",
      " [11  2]\n",
      " [13  4]\n",
      " [ 7 81]\n",
      " [ 5  6]\n",
      " [11 12]]\n",
      "\n",
      " [[16 25]\n",
      " [ 2 11]\n",
      " [ 4 13]\n",
      " [ 7 81]\n",
      " [ 5  6]\n",
      " [11 12]]\n",
      "\n",
      " [[[16 25  2]\n",
      "  [11  4 13]]\n",
      "\n",
      " [[ 7 81  5]\n",
      "  [ 6 11 12]]]\n",
      "\n",
      " [16 25  2]\n",
      "\n",
      " [11  4 13]\n",
      "\n",
      " [ 7 81  5]\n",
      "\n",
      " [ 6 11 12]\n",
      "[10 11 12 13 14 15 16 17 20 21 22 23 24 25 26 27  0  1  2  3  4  5  6  7]\n",
      "\n",
      " 24\n",
      "\n",
      " 12\n",
      "[13 14 15 16 17 20 21 22 23 24 25 26 27  0  1  2  3  4  5  6  7]\n",
      "[14 15 16 17 20 21 22 23 24 25 26]\n",
      "[2 3 4 5 6 7]\n",
      "[ 0 27 26 25 24 23 22 21 20 17 16 15]\n",
      "[20 22 24 26  0  2  4  6]\n",
      "[10 15 22 27  4]\n"
     ]
    }
   ],
   "source": [
    "import numpy as np\n",
    "\n",
    "x = np.array([[25, 16]])\n",
    "y = np.array([[11, 2], [13, 4]])\n",
    "z = np.array([[7, 81], [5, 6], [11, 12]])\n",
    "\n",
    "newArray = np.concatenate((x,y,z))\n",
    "print (newArray)\n",
    "\n",
    "sortedArray = np.sort(newArray)\n",
    "print (\"\\n\", sortedArray)\n",
    "\n",
    "reshapedArray = sortedArray.reshape(2, 2, 3) #(dimension, column, row)\n",
    "print (\"\\n\",reshapedArray)\n",
    "\n",
    "a,d = reshapedArray #unpacked tuples\n",
    "alpha, bravo = a\n",
    "charlie, delta =d\n",
    "print (\"\\n\",alpha)\n",
    "print (\"\\n\",bravo)\n",
    "print (\"\\n\",charlie)\n",
    "print (\"\\n\",delta)\n",
    "\n",
    "one = ([10, 11, 12, 13, 14, 15, 16, 17])\n",
    "two = ([20, 21, 22, 23, 24, 25, 26, 27])\n",
    "three = ([ 0, 1, 2, 3, 4, 5, 6, 7])\n",
    "\n",
    "comborArray = np.concatenate ((one, two, three))\n",
    "print (comborArray)\n",
    "print (\"\\n\",len(comborArray)) #len\n",
    "\n",
    "sec1 = (comborArray[2])\n",
    "print (\"\\n\",sec1)\n",
    "sec2 = (comborArray[3:])\n",
    "print (sec2)\n",
    "sec3 = comborArray[4:15]\n",
    "print (sec3)\n",
    "sec4 = (comborArray[18:])\n",
    "print (sec4)\n",
    "sec5 = (comborArray[16:4:-1]) #from item #0 to #15\n",
    "print (sec5)\n",
    "sec6 = comborArray[8:24:2] #from item #20; every even to the end\n",
    "print (sec6)\n",
    "sec7 = (comborArray[::5])\n",
    "print (sec7)"
   ]
  },
  {
   "cell_type": "code",
   "execution_count": 174,
   "metadata": {},
   "outputs": [],
   "source": [
    "import math\n",
    "import numpy as np\n",
    "\n",
    "a = np.array([[[ 0.0,  0.0,  0.10], [10.0, 10.30, 10.01]],\n",
    "        [[20.0, 20.02, 20.10], [30.0, 31.0, 30.30]],\n",
    "        [[40.40, 24.0, 40.0], [15.0, 15.5, 25.5]]])\n",
    "\n",
    "b = np.array([[17.0, 70.0, 10.7]])\n",
    "\n"
   ]
  },
  {
   "cell_type": "code",
   "execution_count": 172,
   "metadata": {},
   "outputs": [
    {
     "name": "stdout",
     "output_type": "stream",
     "text": [
      "\n",
      " [[[ 17.    70.    10.8 ]\n",
      "  [ 27.    80.3   20.71]]\n",
      "\n",
      " [[ 37.    90.02  30.8 ]\n",
      "  [ 47.   101.    41.  ]]\n",
      "\n",
      " [[ 57.4   94.    50.7 ]\n",
      "  [ 32.    85.5   36.2 ]]]\n"
     ]
    }
   ],
   "source": [
    "c = np.array(a + b)\n",
    "print(\"\\n\", c)"
   ]
  },
  {
   "cell_type": "code",
   "execution_count": 1,
   "metadata": {},
   "outputs": [
    {
     "name": "stdout",
     "output_type": "stream",
     "text": [
      "\n",
      " [[[0.         0.         0.00934579]\n",
      "  [0.58823529 0.14714286 0.93551402]]\n",
      "\n",
      " [[1.17647059 0.286      1.87850467]\n",
      "  [1.76470588 0.44285714 2.8317757 ]]\n",
      "\n",
      " [[2.37647059 0.34285714 3.73831776]\n",
      "  [0.88235294 0.22142857 2.38317757]]]\n"
     ]
    }
   ],
   "source": [
    "import math\n",
    "import numpy as np\n",
    "\n",
    "a = np.array([[[ 0.0,  0.0,  0.10], [10.0, 10.30, 10.01]],\n",
    "        [[20.0, 20.02, 20.10], [30.0, 31.0, 30.30]],\n",
    "        [[40.40, 24.0, 40.0], [15.0, 15.5, 25.5]]])\n",
    "\n",
    "b = np.array([[17.0, 70.0, 10.7]])\n",
    "\n",
    "c = np.array(a / b)\n",
    "print(\"\\n\", c)"
   ]
  },
  {
   "cell_type": "code",
   "execution_count": 159,
   "metadata": {},
   "outputs": [
    {
     "name": "stdout",
     "output_type": "stream",
     "text": [
      "\n",
      " [[[0.00000e+00 0.00000e+00 1.07000e+00]\n",
      "  [1.70000e+02 7.21000e+02 1.07107e+02]]\n",
      "\n",
      " [[3.40000e+02 1.40140e+03 2.15070e+02]\n",
      "  [5.10000e+02 2.17000e+03 3.24210e+02]]\n",
      "\n",
      " [[6.86800e+02 1.68000e+03 4.28000e+02]\n",
      "  [2.55000e+02 1.08500e+03 2.72850e+02]]]\n"
     ]
    }
   ],
   "source": [
    "import math\n",
    "import numpy as np\n",
    "\n",
    "a = np.array([[[ 0.0,  0.0,  0.10], [10.0, 10.30, 10.01]],\n",
    "        [[20.0, 20.02, 20.10], [30.0, 31.0, 30.30]],\n",
    "        [[40.40, 24.0, 40.0], [15.0, 15.5, 25.5]]])\n",
    "\n",
    "b = np.array([[17.0, 70.0, 10.7]])\n",
    "\n",
    "c = np.array(a * b)\n",
    "print(\"\\n\", c)"
   ]
  },
  {
   "cell_type": "code",
   "execution_count": 155,
   "metadata": {},
   "outputs": [
    {
     "name": "stdout",
     "output_type": "stream",
     "text": [
      "[[[-17.   -70.   -10.6 ]\n",
      "  [ -7.   -59.7   -0.69]]\n",
      "\n",
      " [[  3.   -49.98   9.4 ]\n",
      "  [ 13.   -39.    19.6 ]]\n",
      "\n",
      " [[ 23.4  -46.    29.3 ]\n",
      "  [ -2.   -54.5   14.8 ]]]\n"
     ]
    }
   ],
   "source": [
    "import math\n",
    "import numpy as np\n",
    "\n",
    "a = np.array([[[ 0.0,  0.0,  0.10], [10.0, 10.30, 10.01]],\n",
    "        [[20.0, 20.02, 20.10], [30.0, 31.0, 30.30]],\n",
    "        [[40.40, 24.0, 40.0], [15.0, 15.5, 25.5]]])\n",
    "\n",
    "b = np.array([[17.0, 70.0, 10.7]])\n",
    "\n",
    "c = np.subtract(a,b)\n",
    "print (c)\n",
    "\n"
   ]
  },
  {
   "cell_type": "code",
   "execution_count": 188,
   "metadata": {},
   "outputs": [
    {
     "name": "stdout",
     "output_type": "stream",
     "text": [
      "[ 0.  0. 30. 24. 15.]\n",
      "\n",
      " []\n"
     ]
    }
   ],
   "source": [
    "import math\n",
    "import numpy as np\n",
    "\n",
    "a = np.array([[[ 0.0,  0.0,  0.10], [10.0, 10.30, 10.01]],\n",
    "        [[20.0, 20.02, 20.10], [30.0, 31.0, 30.30]],\n",
    "        [[40.40, 24.0, 40.0], [15.0, 15.5, 25.5]]])\n",
    "\n",
    "b = np.array([[17.0, 70.0, 10.7]])\n",
    "\n",
    "a = a[a % 3 == 0]\n",
    "print (a)\n",
    "\n",
    "b = b[b % 3 == 0]\n",
    "print (\"\\n\",b)"
   ]
  },
  {
   "cell_type": "code",
   "execution_count": 238,
   "metadata": {},
   "outputs": [
    {
     "name": "stdout",
     "output_type": "stream",
     "text": [
      "       Ingredients Quantity   Unit\n",
      "Item 1       Flour        4   cups\n",
      "Item 2        Milk        1    cup\n",
      "Item 3        Eggs        2  large\n",
      "Item 4        Spam        1    can\n"
     ]
    }
   ],
   "source": [
    "import pandas as pd\n",
    "Ingred = pd.Series([\"Flour\", \"Milk\", \"Eggs\", \"Spam\"], name = 'Ingredients')\n",
    "Quan= pd.Series([\"4\", \"1\", \"2\", \"1\"], name = \"Quantity\")\n",
    "Un = pd.Series([\"cups\", \"cup\",\"large\", \"can\"], name = \"Unit\")\n",
    "\n",
    "index_labels = [\"Item 1\", \"Item 2\", \"Item 3\", \"Item 4\"]\n",
    "\n",
    "Ingred.index = index_labels\n",
    "Quan.index = index_labels\n",
    "Un.index = index_labels\n",
    "\n",
    "Dinner = pd.concat([Ingred,Quan,Un], axis=1)\n",
    "print(Dinner)\n",
    "\n"
   ]
  },
  {
   "cell_type": "code",
   "execution_count": 264,
   "metadata": {},
   "outputs": [
    {
     "name": "stdout",
     "output_type": "stream",
     "text": [
      "{'Name': ['Jai', 'janusha', 'Gaurav', 'Anuj'], 'Height': [5.1, 6.2, 5.1, 5.2], 'Qualification': ['Msc', 'MA', 'Msc', 'Msc'], 'address': ['Delhi', 'Doha', 'Chennai', 'Dakhar'], 'Age': [21, 23, 24, 21], 'Pets': ['Dog', 'Bunny', 'Chinchilla', 'Parrot'], 'sport': ['Darts', 'Basketball', 'PaddleBoarding', 'Cricket']}\n",
      "\n",
      "       Name Height Qualification  Address  Age        Pets           Sport\n",
      "0      Jai    5.1           Msc    Delhi   21         Dog           Darts\n",
      "1  janusha    6.2            MA     Doha   23       Bunny      Basketball\n",
      "2   Gaurav    5.1           Msc  Chennai   24  Chinchilla  PaddleBoarding\n",
      "3     Anuj    5.2           Msc   Dakhar   21      Parrot         Cricket\n",
      "\n",
      "       Name Height Qualification  ...        Pets           Sport      Desserts\n",
      "0      Jai    5.1           Msc  ...         Dog           Darts     ice cream\n",
      "1  janusha    6.2            MA  ...       Bunny      Basketball  Cashew Fudge\n",
      "2   Gaurav    5.1           Msc  ...  Chinchilla  PaddleBoarding       waffels\n",
      "3     Anuj    5.2           Msc  ...      Parrot         Cricket  Carrot Halwa\n",
      "\n",
      "[4 rows x 8 columns]\n"
     ]
    }
   ],
   "source": [
    "import pandas as pd\n",
    "\n",
    "info = {'Name': ['Jai', 'janusha', 'Gaurav', 'Anuj'],\n",
    "        'Height': [5.1, 6.2, 5.1, 5.2],\n",
    "        'Qualification': ['Msc', 'MA', 'Msc', 'Msc'],\n",
    "        'address': ['Delhi', 'Doha', 'Chennai', 'Dakhar'],\n",
    "        'Age': [21, 23, 24, 21],\n",
    "        'Pets': ['Dog', 'Bunny', 'Chinchilla', 'Parrot'],\n",
    "        'sport': ['Darts', 'Basketball', 'PaddleBoarding', 'Cricket']}\n",
    "print (info)\n",
    "\n",
    "Name = pd.Series (['Jai', 'janusha', 'Gaurav', 'Anuj'], name = \"Name\")\n",
    "Height = pd.Series ([\"5.1\", \"6.2\", \"5.1\", \"5.2\"], name = \"Height\")\n",
    "Qualification = pd.Series(['Msc', 'MA', 'Msc', 'Msc'], name = \"Qualification\")\n",
    "Address = pd.Series(['Delhi', 'Doha', 'Chennai', 'Dakhar'], name = \"Address\")\n",
    "Age = pd.Series([21, 23, 24, 21], name = \"Age\")\n",
    "Pets = pd.Series(['Dog', 'Bunny', 'Chinchilla', 'Parrot'], name = \"Pets\")\n",
    "Sport = pd.Series(['Darts', 'Basketball', 'PaddleBoarding', 'Cricket'], name = \"Sport\")\n",
    "studentData = pd.concat([Name,Height,Qualification,Address,Age,Pets,Sport], axis=1)\n",
    "\n",
    "\n",
    "print (\"\\n\", studentData)\n",
    "\n",
    "\n",
    "studentData.insert(7, \"Desserts\", [\"ice cream\", \"Cashew Fudge\", \"waffels\", \"Carrot Halwa\"], True)\n",
    "print(\"\\n\", studentData)\n",
    "\n",
    "\n"
   ]
  },
  {
   "cell_type": "code",
   "execution_count": 273,
   "metadata": {},
   "outputs": [
    {
     "name": "stdout",
     "output_type": "stream",
     "text": [
      "      Name Height Qualification  ...        Pets           Sport      Desserts\n",
      "2   Gaurav    5.1           Msc  ...  Chinchilla  PaddleBoarding       waffels\n",
      "3     Anuj    5.2           Msc  ...      Parrot         Cricket  Carrot Halwa\n",
      "0      Jai    5.1           Msc  ...         Dog           Darts     ice cream\n",
      "1  janusha    6.2            MA  ...       Bunny      Basketball  Cashew Fudge\n",
      "\n",
      "[4 rows x 8 columns]\n",
      "\n",
      " Sorted by Name: \n",
      "       Name Height Qualification  ...        Pets           Sport      Desserts\n",
      "3     Anuj    5.2           Msc  ...      Parrot         Cricket  Carrot Halwa\n",
      "2   Gaurav    5.1           Msc  ...  Chinchilla  PaddleBoarding       waffels\n",
      "0      Jai    5.1           Msc  ...         Dog           Darts     ice cream\n",
      "1  janusha    6.2            MA  ...       Bunny      Basketball  Cashew Fudge\n",
      "\n",
      "[4 rows x 8 columns]\n",
      "\n",
      " Sorted by Address: \n",
      "       Name Height Qualification  ...        Pets           Sport      Desserts\n",
      "2   Gaurav    5.1           Msc  ...  Chinchilla  PaddleBoarding       waffels\n",
      "3     Anuj    5.2           Msc  ...      Parrot         Cricket  Carrot Halwa\n",
      "0      Jai    5.1           Msc  ...         Dog           Darts     ice cream\n",
      "1  janusha    6.2            MA  ...       Bunny      Basketball  Cashew Fudge\n",
      "\n",
      "[4 rows x 8 columns]\n"
     ]
    }
   ],
   "source": [
    "print (studentData)\n",
    "\n",
    "studentData.sort_values(by = ['Name'], inplace = True, ascending = True)\n",
    "print(\"\\n Sorted by Name: \\n\", studentData)\n",
    "\n",
    "studentData.sort_values(by = ['Address'], inplace = True, ascending = True)\n",
    "print(\"\\n Sorted by Address: \\n\", studentData)"
   ]
  },
  {
   "cell_type": "code",
   "execution_count": 27,
   "metadata": {},
   "outputs": [
    {
     "name": "stdout",
     "output_type": "stream",
     "text": [
      "   Cows  Goats\n",
      "0    12     22\n",
      "1    20     19\n"
     ]
    }
   ],
   "source": [
    "import pandas as pd\n",
    "COWSandGOATS = df = pd.DataFrame({'Cows': [12, 20], 'Goats': [22, 19]}, index=['Year 1', 'Year 2'])\n",
    "COWSandGOATS = df.to_csv('df.csv')\n",
    "COWSandGOATS = pd.read_csv('cows_and_goats.csv')\n",
    "print(COWSandGOATS)"
   ]
  },
  {
   "cell_type": "code",
   "execution_count": 33,
   "metadata": {},
   "outputs": [
    {
     "name": "stdout",
     "output_type": "stream",
     "text": [
      "        Peas  Carrots  Potato\n",
      "amount     5        3       1\n"
     ]
    }
   ],
   "source": [
    "import pandas as pd\n",
    "\n",
    "df = pd.DataFrame({'Peas': [5], 'Carrots': [3], 'Potato': [1]}, index=['amount'])\n",
    "df.to_csv('vegetables.csv')\n",
    "print(df)\n",
    "\n"
   ]
  },
  {
   "cell_type": "code",
   "execution_count": 82,
   "metadata": {},
   "outputs": [
    {
     "name": "stdout",
     "output_type": "stream",
     "text": [
      "        Peas  Carrots  Potato\n",
      "amount     5        3       1\n",
      "\n",
      "         Cucumber\n",
      "amount        10\n",
      "        Peas  Carrots  Potato  Cucumber\n",
      "amount     5        3       1        10\n"
     ]
    }
   ],
   "source": [
    "import pandas as pd\n",
    "\n",
    "df = pd.DataFrame({'Peas': [5], 'Carrots': [3], 'Potato': [1]}, index=['amount'])\n",
    "df.to_csv('vegetables.csv')\n",
    "print(df)\n",
    "\n",
    "df1 = pd.DataFrame({'Cucumber': [10]}, index=['amount'])\n",
    "print(\"\\n\",df1)\n",
    "\n",
    "df2 = pd.concat([df, df1], axis=1,)\n",
    "print (df2)\n",
    "\n",
    "df2.to_csv('updateVegetables.csv')\n",
    "df_saved_file = pd.read_csv('updatedVegetables.csv')\n",
    "\n",
    "\n",
    "\n",
    "\n",
    "\n"
   ]
  }
 ],
 "metadata": {
  "kernelspec": {
   "display_name": "Python 3.10.7 64-bit",
   "language": "python",
   "name": "python3"
  },
  "language_info": {
   "codemirror_mode": {
    "name": "ipython",
    "version": 3
   },
   "file_extension": ".py",
   "mimetype": "text/x-python",
   "name": "python",
   "nbconvert_exporter": "python",
   "pygments_lexer": "ipython3",
   "version": "3.10.7"
  },
  "orig_nbformat": 4,
  "vscode": {
   "interpreter": {
    "hash": "8428b73e643d01d0d2525dc7b2d144d7478265925000bb929d4aab60f44017f9"
   }
  }
 },
 "nbformat": 4,
 "nbformat_minor": 2
}
