{
 "cells": [
  {
   "cell_type": "markdown",
   "metadata": {},
   "source": [
    "1. #### What is an algorithm?\n",
    "An algorithm is a step-by-step instruction designed to solve a problem or perform a specific task.\n",
    "   \n",
    "2. #### Why is Python considered to be a high-level language?\n",
    "Python is a very high-level programming language because its syntax so closely resembles the English language. Higher-level means it’s more readable to humans and less readable to computers. *(Lower-level means less readable for humans and more readable for computers).*\n",
    "\n",
    "3. #### Is Python a Natural or a Formal language?\n",
    "Formal languages are languages that are designed by people for specific applications.  Python is a formal language.\n",
    "\n",
    "4. #### Variable names may not start with certain characters - name two.\n",
    "A variable name must start with a letter or the underscore character. A variable name *cannot* start with a digit (number).\n",
    "\n",
    "5. #### What is a Semantic error?\n",
    "Semantic errors are problems with a program that runs without producing error messages but doesn't do the right thing. For example: An expression may not be evaluated in the order you expect, yielding an incorrect result. A code is grammatically correct but doesn't make any sense.\n",
    "\n",
    "\n",
    "6. #### What is the #1 rule of coding / debugging?\n",
    "Complexity is the enemy of efficiency\n",
    "\n",
    "7. #### List 5 Python reserved words.\n",
    "- True\n",
    "- False\n",
    "- And\n",
    "- Else\n",
    "- If\n",
    "\n",
    "\n",
    "### Good Reading!\n",
    "https://www.coursera.org/articles/what-is-python-used-for-a-beginners-guide-to-using-python"
   ]
  },
  {
   "cell_type": "code",
   "execution_count": 2,
   "metadata": {},
   "outputs": [
    {
     "name": "stdout",
     "output_type": "stream",
     "text": [
      "my name is Germán\n",
      "40\n",
      "['Pizza', 'Steak', 'Lobster']\n",
      "('Tacos', 'Pork', 'Cheese')\n",
      "Learning Data Analytics and Python is Awesome!\n",
      "The value length of savvy is : 46\n",
      "n\n",
      "ing Data Analytics\n",
      "Learning Data Analytics and Python is Great!\n",
      "Python is present\n",
      "Hi my name is Germán, I am 5'10, and 40 old today.\n",
      "40.0\n"
     ]
    }
   ],
   "source": [
    "# My name is Germán.\n",
    "# My favorite food is pepperoni pizza.\n",
    "# My dream job is to work for Nintendo of America as a data analyst.\n",
    "\n",
    "g = 'my name is Germán'\n",
    "print(g)\n",
    "a = 40\n",
    "print(a)\n",
    "FavFoods = [\"Pizza\", \"Steak\", \"Lobster\"]\n",
    "print(FavFoods)\n",
    "otherFavFoods = (\"Tacos\", \"Pork\", \"Cheese\")\n",
    "print(otherFavFoods)\n",
    "\n",
    "\n",
    "savvy = (\"Learning Data Analytics and Python is Awesome!\")\n",
    "print (savvy)\n",
    "\n",
    "len (savvy) #46\n",
    "print ('The value length of savvy is :' ,len (savvy))\n",
    "\n",
    "print(savvy[4]) # 'n' is in index 4\n",
    "\n",
    "print(savvy[5:23]) # This gives us from the beginning of \"ing\" up to before \"and\" ## Note: This includes the space before \"and\".\n",
    "\n",
    "print(savvy.replace (\"Awesome\", \"Great\")) # Temporarily replacing \"Awesome\" to \"Great\".\n",
    "\n",
    "if \"Python\" in savvy:\n",
    "\tprint(\"Python is present\")\n",
    "\n",
    "Name = \"Germán\"\n",
    "Age =  40 \n",
    "Length = \"5'10\"\n",
    "miniBio = (\"Hi my name is {}, I am {}, and {} old today.\")\n",
    "print (miniBio.format (Name, Length, Age))\n",
    "Age = float(40)\n",
    "print(Age)"
   ]
  }
 ],
 "metadata": {
  "kernelspec": {
   "display_name": "Python 3.10.7 64-bit",
   "language": "python",
   "name": "python3"
  },
  "language_info": {
   "codemirror_mode": {
    "name": "ipython",
    "version": 3
   },
   "file_extension": ".py",
   "mimetype": "text/x-python",
   "name": "python",
   "nbconvert_exporter": "python",
   "pygments_lexer": "ipython3",
   "version": "3.10.7"
  },
  "orig_nbformat": 4,
  "vscode": {
   "interpreter": {
    "hash": "8428b73e643d01d0d2525dc7b2d144d7478265925000bb929d4aab60f44017f9"
   }
  }
 },
 "nbformat": 4,
 "nbformat_minor": 2
}
