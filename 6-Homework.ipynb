{
 "cells": [
  {
   "cell_type": "code",
   "execution_count": 53,
   "metadata": {},
   "outputs": [
    {
     "name": "stdout",
     "output_type": "stream",
     "text": [
      "Renting a car is more affordable.\n"
     ]
    }
   ],
   "source": [
    "age = 40\n",
    "if age >= 25:\n",
    "    print(\"Renting a car is more affordable.\")\n",
    "else:\n",
    "    print(\"Renting a car is very expensive.\")\n"
   ]
  },
  {
   "cell_type": "code",
   "execution_count": 54,
   "metadata": {},
   "outputs": [
    {
     "name": "stdout",
     "output_type": "stream",
     "text": [
      "Renting a car is more affordable.\n",
      "Renting a car is very expensive\n"
     ]
    }
   ],
   "source": [
    "age = 40\n",
    "\n",
    "if age > 25:\n",
    "    print(\"Renting a car is more affordable.\")\n",
    "if age < 25 or age >= 18:\n",
    "    print(\"Renting a car is very expensive\")\n",
    "elif age < 18:\n",
    "    print(\"You cannot legally rent a car\")"
   ]
  },
  {
   "cell_type": "code",
   "execution_count": 78,
   "metadata": {},
   "outputs": [
    {
     "name": "stdout",
     "output_type": "stream",
     "text": [
      "The quick brown fox jumps over the lazy dog\n",
      "The count is: 43\n",
      "e\n",
      "u\n",
      "i\n",
      "o\n",
      "o\n",
      "u\n",
      "o\n",
      "e\n",
      "e\n",
      "a\n",
      "o\n"
     ]
    }
   ],
   "source": [
    "line = (\"The quick brown fox jumps over the lazy dog\")\n",
    "print(line)\n",
    "print (\"The count is:\",(len(line)))\n",
    "\n",
    "for vowels in line:\n",
    "    if vowels in 'aeiou':\n",
    "        print(vowels)\n",
    "\n",
    "\n",
    "\n",
    "\n"
   ]
  },
  {
   "cell_type": "code",
   "execution_count": 81,
   "metadata": {},
   "outputs": [
    {
     "name": "stdout",
     "output_type": "stream",
     "text": [
      "trousers gunmetal blue\n",
      "trousers burnt sienna\n",
      "trousers auburn\n",
      "trousers Dark Sapphire\n",
      "trousers cerise\n",
      "trousers fuchsia\n",
      "trousers aqua\n",
      "trousers maple\n",
      "blouse gunmetal blue\n",
      "blouse burnt sienna\n",
      "blouse auburn\n",
      "blouse Dark Sapphire\n",
      "blouse cerise\n",
      "blouse fuchsia\n",
      "blouse aqua\n",
      "blouse maple\n",
      "bandana gunmetal blue\n",
      "bandana burnt sienna\n",
      "bandana auburn\n",
      "bandana Dark Sapphire\n",
      "bandana cerise\n",
      "bandana fuchsia\n",
      "bandana aqua\n",
      "bandana maple\n",
      "cumber band gunmetal blue\n",
      "cumber band burnt sienna\n",
      "cumber band auburn\n",
      "cumber band Dark Sapphire\n",
      "cumber band cerise\n",
      "cumber band fuchsia\n",
      "cumber band aqua\n",
      "cumber band maple\n",
      "blazer gunmetal blue\n",
      "blazer burnt sienna\n",
      "blazer auburn\n",
      "blazer Dark Sapphire\n",
      "blazer cerise\n",
      "blazer fuchsia\n",
      "blazer aqua\n",
      "blazer maple\n",
      "vest gunmetal blue\n",
      "vest burnt sienna\n",
      "vest auburn\n",
      "vest Dark Sapphire\n",
      "vest cerise\n",
      "vest fuchsia\n",
      "vest aqua\n",
      "vest maple\n",
      "french beret gunmetal blue\n",
      "french beret burnt sienna\n",
      "french beret auburn\n",
      "french beret Dark Sapphire\n",
      "french beret cerise\n",
      "french beret fuchsia\n",
      "french beret aqua\n",
      "french beret maple\n",
      "scarf gunmetal blue\n",
      "scarf burnt sienna\n",
      "scarf auburn\n",
      "scarf Dark Sapphire\n",
      "scarf cerise\n",
      "scarf fuchsia\n",
      "scarf aqua\n",
      "scarf maple\n",
      "stole gunmetal blue\n",
      "stole burnt sienna\n",
      "stole auburn\n",
      "stole Dark Sapphire\n",
      "stole cerise\n",
      "stole fuchsia\n",
      "stole aqua\n",
      "stole maple\n"
     ]
    }
   ],
   "source": [
    "couture = [\"trousers\", \"blouse\", \"bandana\", \"cumber band\", \"blazer\", \"vest\", \"french beret\", \"scarf\", \"stole\"]\n",
    "\n",
    "panettone = {\"cerise\", \"fuchsia\", \"aqua\", \"maple\", \"auburn\", \"burnt sienna\", \"gunmetal blue\", \"Dark Sapphire\"}\n",
    "\n",
    "for type in couture:\n",
    "    for color in panettone:\n",
    "        print (type, color)\n"
   ]
  },
  {
   "cell_type": "code",
   "execution_count": 8,
   "metadata": {},
   "outputs": [
    {
     "name": "stdout",
     "output_type": "stream",
     "text": [
      "5050\n"
     ]
    }
   ],
   "source": [
    "sum = 0 \n",
    "\n",
    "for x in range(1,101):\n",
    "    sum += x\n",
    "print(sum)"
   ]
  },
  {
   "cell_type": "code",
   "execution_count": 19,
   "metadata": {},
   "outputs": [
    {
     "name": "stdout",
     "output_type": "stream",
     "text": [
      "banana\n"
     ]
    }
   ],
   "source": [
    "fruit = [\"apple\", \"banana\", \"cherry\"]\n",
    "print(fruit[1])"
   ]
  },
  {
   "cell_type": "code",
   "execution_count": 21,
   "metadata": {},
   "outputs": [
    {
     "name": "stdout",
     "output_type": "stream",
     "text": [
      "['kiwi', 'banana', 'cherry']\n"
     ]
    }
   ],
   "source": [
    "fruit = [\"apple\", \"banana\", \"cherry\"]\n",
    "fruit[0] = \"kiwi\"\n",
    "print(fruit)"
   ]
  },
  {
   "cell_type": "code",
   "execution_count": 24,
   "metadata": {},
   "outputs": [
    {
     "name": "stdout",
     "output_type": "stream",
     "text": [
      "['kiwi', 'banana', 'cherry', 'orange']\n"
     ]
    }
   ],
   "source": [
    "fruit = ['kiwi', 'banana', 'cherry']\n",
    "fruit.append ('orange')\n",
    "print (fruit)"
   ]
  },
  {
   "cell_type": "code",
   "execution_count": 30,
   "metadata": {},
   "outputs": [
    {
     "name": "stdout",
     "output_type": "stream",
     "text": [
      "['apple', 'lemon', 'banana', 'cherry']\n"
     ]
    }
   ],
   "source": [
    "fruit = [\"apple\", \"banana\", \"cherry\"]\n",
    "fruit.insert (1, 'lemon')\n",
    "print (fruit)"
   ]
  },
  {
   "cell_type": "code",
   "execution_count": 32,
   "metadata": {},
   "outputs": [
    {
     "name": "stdout",
     "output_type": "stream",
     "text": [
      "['apple', 'banana', 'cherry']\n"
     ]
    }
   ],
   "source": [
    "fruit = ['apple', 'lemon', 'banana', 'cherry']\n",
    "fruit.remove('lemon')\n",
    "print (fruit)"
   ]
  },
  {
   "cell_type": "code",
   "execution_count": 36,
   "metadata": {},
   "outputs": [
    {
     "name": "stdout",
     "output_type": "stream",
     "text": [
      "melon\n",
      "kiwi\n",
      "['apple', 'banana', 'cherry', 'orange', 'kiwi', 'melon', 'mango']\n"
     ]
    }
   ],
   "source": [
    "fruit = [\"apple\", \"banana\", \"cherry\", \"orange\", \"kiwi\", \"melon\", \"mango\"]\n",
    "print (fruit[-2])\n",
    "print (fruit[-3])\n",
    "print (fruit)"
   ]
  },
  {
   "cell_type": "code",
   "execution_count": 42,
   "metadata": {},
   "outputs": [
    {
     "name": "stdout",
     "output_type": "stream",
     "text": [
      "['cherry', 'orange', 'kiwi']\n"
     ]
    }
   ],
   "source": [
    "fruit = [\"apple\", \"banana\", \"cherry\", \"orange\", \"kiwi\", \"melon\", \"mango\"]\n",
    "print (fruit[2:5])\n",
    "\n"
   ]
  },
  {
   "cell_type": "code",
   "execution_count": 43,
   "metadata": {},
   "outputs": [
    {
     "name": "stdout",
     "output_type": "stream",
     "text": [
      "7\n"
     ]
    }
   ],
   "source": [
    "fruit = [\"apple\", \"banana\", \"cherry\", \"orange\", \"kiwi\", \"melon\", \"mango\"]\n",
    "print (len(fruit))"
   ]
  },
  {
   "cell_type": "code",
   "execution_count": 53,
   "metadata": {},
   "outputs": [
    {
     "name": "stdout",
     "output_type": "stream",
     "text": [
      "['orange', 'melon', 'mango', 'kiwi', 'cherry', 'banana', 'apple']\n"
     ]
    }
   ],
   "source": [
    "fruit = [\"apple\", \"banana\", \"cherry\", \"orange\", \"kiwi\", \"melon\", \"mango\"]\n",
    "fruit.sort (reverse=True)\n",
    "print (fruit)"
   ]
  },
  {
   "cell_type": "code",
   "execution_count": 56,
   "metadata": {},
   "outputs": [
    {
     "name": "stdout",
     "output_type": "stream",
     "text": [
      "2022-11-20 17:31:19.539135\n",
      "November\n"
     ]
    }
   ],
   "source": [
    "import datetime\n",
    "dt = datetime.datetime.now()\n",
    "print (dt)\n",
    "print(dt.strftime(\"%B\"))"
   ]
  },
  {
   "cell_type": "code",
   "execution_count": 94,
   "metadata": {},
   "outputs": [
    {
     "name": "stdout",
     "output_type": "stream",
     "text": [
      "Hi German! Happy Sunday!\n"
     ]
    }
   ],
   "source": [
    "day = \"Sunday\"\n",
    "name = \"German\"\n",
    "print(\"Hi\", name + \"!\", \"Happy\", day + \"!\")"
   ]
  }
 ],
 "metadata": {
  "kernelspec": {
   "display_name": "Python 3.10.7 64-bit",
   "language": "python",
   "name": "python3"
  },
  "language_info": {
   "codemirror_mode": {
    "name": "ipython",
    "version": 3
   },
   "file_extension": ".py",
   "mimetype": "text/x-python",
   "name": "python",
   "nbconvert_exporter": "python",
   "pygments_lexer": "ipython3",
   "version": "3.10.7"
  },
  "orig_nbformat": 4,
  "vscode": {
   "interpreter": {
    "hash": "8428b73e643d01d0d2525dc7b2d144d7478265925000bb929d4aab60f44017f9"
   }
  }
 },
 "nbformat": 4,
 "nbformat_minor": 2
}
