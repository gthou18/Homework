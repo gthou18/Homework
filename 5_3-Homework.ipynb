{
 "cells": [
  {
   "cell_type": "code",
   "execution_count": 90,
   "metadata": {},
   "outputs": [
    {
     "name": "stdout",
     "output_type": "stream",
     "text": [
      "['Washington Heights', 170, 'Inwood', 183, 'Harlem', 123, 'Soho', 16.0, 'Tribeca']\n",
      "\n",
      " ['Washington Heights', 170, 'Inwood', 183, 'Harlem', 123, 'Soho', 16.0, 'Tribeca', \"Hell's Kitchen\", 'Midtown']\n",
      "\n",
      "The length of 'list_1' is 11\n",
      "\n",
      " [183, 'Harlem']\n",
      "['Washington Heights', 170, 'Inwood', 183, 'Harlem', 123, 'Soho', 'Tribeca', \"Hell's Kitchen\", 'Midtown']\n",
      "\n",
      "Soho and Tribeca have been sliced and placed in list_2\n",
      "[16.0]\n",
      "\n",
      "List 1 has now been extended back with List 2 added ['Washington Heights', 170, 'Inwood', 183, 'Harlem', 123, 'Soho', 'Tribeca', \"Hell's Kitchen\", 'Midtown', 16.0]\n",
      "\n",
      "New list: ['Harlem', 'LES', 'Soho', 'Tribeca', 'Washington Heights']\n",
      "\n",
      "list_3 = ['Harlem', 'LES', 'Soho', 'Tribeca', 'Washington Heights']\n",
      "\n",
      "list_2+List_3 = [16.0, 'Harlem', 'LES', 'Soho', 'Tribeca', 'Washington Heights']\n"
     ]
    }
   ],
   "source": [
    "# Lists\n",
    "\n",
    "list_1 = ['Washington Heights', 170, 'Inwood', 183, 'Harlem', 123, 'Soho', 16.0, 'Tribeca']\n",
    "print(list_1)\n",
    "\n",
    "list_1.append(\"Hell's Kitchen\")\n",
    "list_1.append(\"Midtown\")\n",
    "print(\"\\n\", list_1)\n",
    "\n",
    "Length=len(list_1)\n",
    "print (\"\\nThe length of 'list_1' is\", Length) # showing 11 values in the list\n",
    "\n",
    "print (\"\\n\", list_1[3:5]) # sliced off the last two values in list\n",
    "list_1.remove (16.0) \n",
    "print (list_1)\n",
    "\n",
    "print (\"\\nSoho and Tribeca have been sliced and placed in list_2\")\n",
    "\n",
    "list_2 = [16.0]\n",
    "print (list_2) # new list with sliced values\n",
    "\n",
    "list_1.extend(list_2)\n",
    "print (\"\\nList 1 has now been extended back with List 2 added\", list_1)\n",
    "\n",
    "simList=['Harlem', 'LES', 'Soho', 'Tribeca', 'Washington Heights']\n",
    "print(\"\\nNew list:\", simList) # simList created as sorted from same data types\n",
    "\n",
    "list_3=['Harlem', 'LES', 'Soho', 'Tribeca', 'Washington Heights']\n",
    "print(\"\\nlist_3 =\", list_3)\n",
    "\n",
    "list_4=(list_2+list_3)\n",
    "print(\"\\nlist_2+List_3 =\", list_4) # added lists"
   ]
  },
  {
   "cell_type": "code",
   "execution_count": 1,
   "metadata": {},
   "outputs": [
    {
     "name": "stdout",
     "output_type": "stream",
     "text": [
      "('soda', 'rum', 'ice', 'clear', 'bottle')\n",
      "\n",
      "New Tuple 'times' 3: ('soda', 'rum', 'ice', 'clear', 'bottle', 'soda', 'rum', 'ice', 'clear', 'bottle', 'soda', 'rum', 'ice', 'clear', 'bottle')\n",
      "\n",
      " ice\n",
      "\n",
      " ['bottle', 'bottle', 'bottle', 'clear', 'clear', 'clear', 'ice', 'ice', 'ice', 'rum', 'rum', 'rum', 'soda', 'soda', 'soda']\n",
      "\n",
      " ('soda', 'rum', 'ice', 'bottle')\n",
      "\n",
      " soda rum ice bottle\n",
      "\n",
      " 50\n",
      "\n",
      " ('soda', 'rum', 'ice', 'clear', 'bottle', 'soda', 'rum', 'ice', 'clear', 'bottle', 'soda', 'rum', 'ice', 'clear', 'bottle', 'soda', 'rum', 'ice', 'bottle')\n"
     ]
    }
   ],
   "source": [
    "#Tuple\n",
    "\n",
    "Tup1=(\"soda\", \"rum\", \"ice\", \"clear\", \"bottle\")\n",
    "print(Tup1)\n",
    "\n",
    "Tup2=(Tup1*3)\n",
    "print(\"\\nNew Tuple 'times' 3:\",Tup2)\n",
    "\n",
    "Tup2[12] # starting at 0, 12th element is \"ice\"\n",
    "print (\"\\n\", Tup2[12])\n",
    "\n",
    "print(\"\\n\",sorted(Tup2)) #sorted the second tuple\n",
    "\n",
    "Tup3=(\"soda\", \"rum\", \"ice\", \"bottle\")\n",
    "print(\"\\n\",Tup3)\n",
    "\n",
    "s, r, i, b=Tup3 # unpacked Tuple\n",
    "print(\"\\n\",s,r,i,b)\n",
    "\n",
    "Tup4=(50)\n",
    "print(\"\\n\",(50))\n",
    "\n",
    "Tup5=(Tup2+Tup3)\n",
    "print(\"\\n\",Tup5)\n",
    "\n",
    "\n"
   ]
  },
  {
   "cell_type": "code",
   "execution_count": 276,
   "metadata": {},
   "outputs": [
    {
     "name": "stdout",
     "output_type": "stream",
     "text": [
      "{'Kiwi', 'Pineapple', 'Strawberry'}\n",
      "\n",
      " {'Kiwi', 'Pineapple', 'Strawberry', 'Honda'}\n",
      "\n",
      " {'odder', 'oddest', 'odd'}\n",
      "\n",
      " {'Kiwi', 'odder', 'Strawberry', 'Honda', 'Pineapple', 'odd', 'oddest'}\n",
      "\n",
      " {'oddest', 'odd'}\n",
      "\n",
      " set()\n",
      "\n",
      " {'odder', 'Strawberry', 'Honda', 'Pineapple', 'odd', 'oddest'}\n",
      "\n",
      " {'odder', 'Strawberry', 'Pineapple', 'odd', 'oddest'}\n"
     ]
    }
   ],
   "source": [
    "#Sets\n",
    "\n",
    "Set1={\"Kiwi\", \"Pineapple\", \"Strawberry\"}\n",
    "print(Set1)\n",
    "\n",
    "Set1.add(\"Honda\") # added car element\n",
    "print (\"\\n\",Set1)\n",
    "\n",
    "Set2={\"odd\", \"odder\", \"oddest\"} # added a few odd items  :)\n",
    "print(\"\\n\",Set2)\n",
    "\n",
    "Set3=Set1.union(Set2)\n",
    "print(\"\\n\",Set3)\n",
    "\n",
    "Set2.pop()\n",
    "print(\"\\n\",Set2)\n",
    "\n",
    "Set1.clear()\n",
    "print(\"\\n\",Set1)\n",
    "\n",
    "Set3.discard(\"Kiwi\")\n",
    "print(\"\\n\",Set3)\n",
    "\n",
    "Set3.remove(\"Honda\")\n",
    "print(\"\\n\",Set3)\n",
    "\n",
    "\n"
   ]
  },
  {
   "cell_type": "code",
   "execution_count": 348,
   "metadata": {},
   "outputs": [
    {
     "name": "stdout",
     "output_type": "stream",
     "text": [
      "{'name': 'Alexander', 'age': '0.7', 'height': '23 inches', 'crawl': 'True', 'parent': 'Yerelin'}\n",
      "\n",
      " name\n",
      "\n",
      " {'name': 'Alexander', 'age': '0.7', 'height': '23 inches', 'crawl': 'True', 'parent': 'Germán'}\n",
      "\n",
      " {'name': 'Alexander', 'age': '0.7', 'height': '23 inches', 'crawl': 'True', 'parent': 'Germán', 'color': 'red'}\n",
      "\n",
      " {'name': 'Alexander', 'age': '0.7', 'height': '23 inches', 'crawl': 'True', 'parent': 'Germán', 'color': 'red', 'toys': ['ball', 'blocks']}\n",
      "\n",
      " dict_keys(['name', 'age', 'height', 'crawl', 'parent', 'color', 'toys'])\n",
      "\n",
      " dict_values(['Alexander', '0.7', '23 inches', 'True', 'Germán', 'red', ['ball', 'blocks']])\n",
      "\n",
      " {'name': 'Alexander', 'age': '0.7', 'height': '23 inches', 'crawl': 'True', 'parent': 'Germán', 'color': 'red', 'toys': ['ball', 'blocks']}\n",
      "\n",
      " ('toys', ['ball', 'blocks'])\n",
      "\n",
      " {}\n"
     ]
    }
   ],
   "source": [
    "# Dictionary\n",
    "\n",
    "Diction={\n",
    "    \"name\": \"Alexander\",\n",
    "    \"age\": \"0.7\",\n",
    "    \"height\": \"23 inches\",\n",
    "    \"crawl\": \"True\",\n",
    "    \"parent\": \"Yerelin\"}\n",
    "print(Diction)\n",
    "\n",
    "print(\"\\n\",list(Diction)[0]) # in order to print 1 value, list it plus index number (though dicts don't have index numbers)\n",
    "\n",
    "Diction.update({\"parent\": \"Yerelin\", \"parent\": \"Germán\"}) #replace wife's name with my name\n",
    "print(\"\\n\",Diction)\n",
    "\n",
    "Diction.update({\"color\": \"red\"})\n",
    "print(\"\\n\",Diction)\n",
    "\n",
    "Diction.update({\"toys\": [\"ball\",\"blocks\"],})\n",
    "print(\"\\n\",Diction)\n",
    "\n",
    "print(\"\\n\",Diction.keys()) # printed all keys\n",
    "\n",
    "print(\"\\n\",Diction.values()) # printed all values\n",
    "\n",
    "Diction2={\n",
    "    'name': 'Alexander', \n",
    "    'age': '0.7', \n",
    "    'height': '23 inches', \n",
    "    'crawl': 'True', \n",
    "    'parent': 'Germán', \n",
    "    'color': 'red', \n",
    "    'toys': ['ball', 'blocks']} # added updated Diction to Diction2\n",
    "print(\"\\n\",Diction2)\n",
    "\n",
    "print(\"\\n\",Diction2.popitem())\n",
    "\n",
    "Diction2.clear()\n",
    "print(\"\\n\",Diction2) # cleared all from Diction2"
   ]
  }
 ],
 "metadata": {
  "kernelspec": {
   "display_name": "Python 3.10.7 64-bit",
   "language": "python",
   "name": "python3"
  },
  "language_info": {
   "codemirror_mode": {
    "name": "ipython",
    "version": 3
   },
   "file_extension": ".py",
   "mimetype": "text/x-python",
   "name": "python",
   "nbconvert_exporter": "python",
   "pygments_lexer": "ipython3",
   "version": "3.10.7"
  },
  "orig_nbformat": 4,
  "vscode": {
   "interpreter": {
    "hash": "8428b73e643d01d0d2525dc7b2d144d7478265925000bb929d4aab60f44017f9"
   }
  }
 },
 "nbformat": 4,
 "nbformat_minor": 2
}
